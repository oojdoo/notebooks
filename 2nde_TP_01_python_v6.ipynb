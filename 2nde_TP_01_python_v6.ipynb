{
 "cells": [
  {
   "cell_type": "markdown",
   "metadata": {},
   "source": [
    "*Nous allons écrire une introduction au langage de programmation Python dans le cahier de cours de Mathématiques.\n",
    "Retounez votre cahier de cours et écrivez le titre et toutes les commandes ci-dessous (sauf les exercices).*\n",
    "\n",
    "# Apprentissage de la programmation en Python\n",
    "\n",
    "## Afficher un message en Python\n",
    "\n",
    "Exemple :"
   ]
  },
  {
   "cell_type": "code",
   "execution_count": 4,
   "metadata": {},
   "outputs": [
    {
     "name": "stdout",
     "output_type": "stream",
     "text": [
      "Hello, 2B coucou!\n"
     ]
    }
   ],
   "source": [
    "print(\"Hello, 2B coucou!\")  # on utilise la fonction print"
   ]
  },
  {
   "cell_type": "markdown",
   "metadata": {},
   "source": [
    "__Exercice :__ En vous aidant de la commande précédente, écrire dans la cellule ci-dessous une commande permettant d'afficher le message ci-dessous : \n",
    "\n",
    "*Tout ce qui se conçoit bien s'énonce clairement et les mots pour le dire viennent aisément.*"
   ]
  },
  {
   "cell_type": "code",
   "execution_count": 5,
   "metadata": {},
   "outputs": [],
   "source": [
    "# Écrire votre commande ici\n",
    "# Remarquer pour lancer une commande, il faut utiliser la combinaison\n",
    "# de touches suivantes : CTRL + ENTREE\n",
    "\n",
    "\n",
    "\n"
   ]
  },
  {
   "cell_type": "markdown",
   "metadata": {},
   "source": [
    "## Afficher un commentaire\n",
    "Pour afficher un commentaire dans un programme on utilse le symbole #\n",
    "\n",
    "Les mots situés après le # sur une même ligne sont ignorés par Python."
   ]
  },
  {
   "cell_type": "code",
   "execution_count": 6,
   "metadata": {},
   "outputs": [
    {
     "name": "stdout",
     "output_type": "stream",
     "text": [
      "Classe de 2nde B du lycée David d'Angers!\n"
     ]
    }
   ],
   "source": [
    "# Ceci est un commentaire!\n",
    "# Tout ce qui suit le # sur une même ligne est ignoré par Python\n",
    "print(\"Classe de 2nde B du lycée David d'Angers!\")  # autre commentaire"
   ]
  },
  {
   "cell_type": "markdown",
   "metadata": {},
   "source": [
    "__Exercice :__ En vous aidant de la commande précédente, écrire dans la cellule ci-dessous une commande affichant le théorème suivant ET ajouter un commentaire précisant le nom de ce théorème : \n",
    "\n",
    "*Dans un triangle rectangle, le carré de la longueur de l'hypoténuse est égal à la somme des carrés des longueurs des deux autres côtés.*"
   ]
  },
  {
   "cell_type": "code",
   "execution_count": null,
   "metadata": {},
   "outputs": [],
   "source": []
  },
  {
   "cell_type": "markdown",
   "metadata": {},
   "source": [
    "## Opérations sur les nombres\n"
   ]
  },
  {
   "cell_type": "code",
   "execution_count": 7,
   "metadata": {},
   "outputs": [
    {
     "data": {
      "text/plain": [
       "17"
      ]
     },
     "execution_count": 7,
     "metadata": {},
     "output_type": "execute_result"
    }
   ],
   "source": [
    "# Addition de deux nombres entiers\n",
    "8 + 9"
   ]
  },
  {
   "cell_type": "code",
   "execution_count": 8,
   "metadata": {},
   "outputs": [],
   "source": [
    "# Dans cette cellule, écrire une commande affichant la différence \n",
    "# de 1982 et 172\n",
    "\n"
   ]
  },
  {
   "cell_type": "code",
   "execution_count": 9,
   "metadata": {},
   "outputs": [
    {
     "data": {
      "text/plain": [
       "37740.78"
      ]
     },
     "execution_count": 9,
     "metadata": {},
     "output_type": "execute_result"
    }
   ],
   "source": [
    "# Multiplication de deux nombres décimaux\n",
    "58.8 * 641.85"
   ]
  },
  {
   "cell_type": "code",
   "execution_count": 10,
   "metadata": {},
   "outputs": [],
   "source": [
    "# Dans cette cellule, écrire une commande affichant le produit de \n",
    "# de 1024.25 et 1236.8\n",
    "\n"
   ]
  },
  {
   "cell_type": "code",
   "execution_count": 11,
   "metadata": {},
   "outputs": [
    {
     "data": {
      "text/plain": [
       "5.666666666666667"
      ]
     },
     "execution_count": 11,
     "metadata": {},
     "output_type": "execute_result"
    }
   ],
   "source": [
    "# Division décimale par un nombre non nul\n",
    "17 / 3         # quotient de 17 par 3"
   ]
  },
  {
   "cell_type": "code",
   "execution_count": 12,
   "metadata": {},
   "outputs": [],
   "source": [
    "# Dans cette cellule, écrire une commande affichant le quotient de \n",
    "# 1782 par 83\n",
    "\n"
   ]
  },
  {
   "cell_type": "code",
   "execution_count": 13,
   "metadata": {},
   "outputs": [
    {
     "data": {
      "text/plain": [
       "5"
      ]
     },
     "execution_count": 13,
     "metadata": {},
     "output_type": "execute_result"
    }
   ],
   "source": [
    "# Partie entière de la division \n",
    "17 // 3        # retourne la partie entière de 5.666666666666667 soit 5"
   ]
  },
  {
   "cell_type": "code",
   "execution_count": 14,
   "metadata": {},
   "outputs": [],
   "source": [
    "# Dans cette cellule, écrire une commande affichant la partie entière \n",
    "# du quotient de 1782 par 83\n",
    "\n"
   ]
  },
  {
   "cell_type": "code",
   "execution_count": 15,
   "metadata": {},
   "outputs": [
    {
     "data": {
      "text/plain": [
       "1024"
      ]
     },
     "execution_count": 15,
     "metadata": {},
     "output_type": "execute_result"
    }
   ],
   "source": [
    "# Puissance d'un nombre\n",
    "2**10         # calcul de la puissane 10 de 2"
   ]
  },
  {
   "cell_type": "code",
   "execution_count": 16,
   "metadata": {},
   "outputs": [],
   "source": [
    "# Dans cette cellule, écrire une commande affichant 17 puissance 20\n",
    "\n"
   ]
  },
  {
   "cell_type": "markdown",
   "metadata": {},
   "source": [
    "## Variables en python\n",
    "\n",
    "Afin de faciliter l'écriture de programmes, on peut stocker des valeurs dans des variables pour ensuite les réutiliser ou les modifier."
   ]
  },
  {
   "cell_type": "code",
   "execution_count": 17,
   "metadata": {},
   "outputs": [
    {
     "data": {
      "text/plain": [
       "30"
      ]
     },
     "execution_count": 17,
     "metadata": {},
     "output_type": "execute_result"
    }
   ],
   "source": [
    "# Déclaration et initialisation de la variable x \n",
    "x = 14   # x est déclaré puis initialisé avec la valeur entière 14\n",
    "x + 16   # calcul de x + 16 soit 14 + 16"
   ]
  },
  {
   "cell_type": "markdown",
   "metadata": {},
   "source": [
    "__Exercice :__ En vous aidant de la commande précédente, déclarer dans \n",
    "la cellule ci-dessous un variable v et initialiser sa valeur à 183.\n",
    "Enfin, afficher le résultat de la différence de v et 267."
   ]
  },
  {
   "cell_type": "code",
   "execution_count": 18,
   "metadata": {},
   "outputs": [],
   "source": [
    "# Écrire votre commande ici\n",
    "\n"
   ]
  },
  {
   "cell_type": "markdown",
   "metadata": {},
   "source": [
    "On peut intialiser une variable avec une chaîne de caractères :"
   ]
  },
  {
   "cell_type": "code",
   "execution_count": 19,
   "metadata": {},
   "outputs": [
    {
     "name": "stdout",
     "output_type": "stream",
     "text": [
      "Hello, world!\n"
     ]
    }
   ],
   "source": [
    "#Déclaration et initilisation de la variable y\n",
    "y = \"Hello, world!\"  # y est initialisé avec une chaîne de caractères\n",
    "print(y)"
   ]
  },
  {
   "cell_type": "markdown",
   "metadata": {},
   "source": [
    "De même, on peut initialiser une variable avec un nombre décimal :"
   ]
  },
  {
   "cell_type": "code",
   "execution_count": 20,
   "metadata": {},
   "outputs": [],
   "source": [
    "z = 3.1415  # z est initialisé avec le nombre décimal 3.1415"
   ]
  },
  {
   "cell_type": "markdown",
   "metadata": {},
   "source": [
    "__Exercice :__ En utilisant la variable z ci-dessus, écrire une commande permettant d'afficher la somme du carré de z et du cube de (-3) :"
   ]
  },
  {
   "cell_type": "code",
   "execution_count": 21,
   "metadata": {},
   "outputs": [],
   "source": [
    "# Écrire votre commande ici\n",
    "\n"
   ]
  },
  {
   "cell_type": "markdown",
   "metadata": {},
   "source": [
    "## Affectation d'une valeur à une variable\n",
    "\n",
    "Après la déclaration et l'initialisation d'une variable, il est possible de modifier la valeur stockée dans cette variable : on parle alors d'une affectation."
   ]
  },
  {
   "cell_type": "code",
   "execution_count": 22,
   "metadata": {},
   "outputs": [
    {
     "name": "stdout",
     "output_type": "stream",
     "text": [
      "171\n"
     ]
    }
   ],
   "source": [
    "t = 170\n",
    "t = t + 1    # Affectation de la valeur t + 1 à la variable t\n",
    "print(t)     # Affichage de la valeur stockée dans t"
   ]
  },
  {
   "cell_type": "markdown",
   "metadata": {},
   "source": [
    "__Exercice :__ En vous aidant de la commande précédente, déclarer et initialiser une variable *w* avec la valeur -12. Puis, affecter la valeur du cube de *w* à la variable *w* sans utiliser -12. Enfin afficher la valeur de la variable *w* :"
   ]
  },
  {
   "cell_type": "code",
   "execution_count": 23,
   "metadata": {},
   "outputs": [],
   "source": [
    "# Écrire votre commande ici\n",
    "\n"
   ]
  },
  {
   "cell_type": "markdown",
   "metadata": {},
   "source": [
    "De même, si une variable est initialisé avec une chaîne de caractères alors il est possible de modifier la valeur de cette variable.\n",
    "Exemple :"
   ]
  },
  {
   "cell_type": "code",
   "execution_count": 24,
   "metadata": {},
   "outputs": [
    {
     "name": "stdout",
     "output_type": "stream",
     "text": [
      "Bienvenue dans le cours de sciences numériques.\n"
     ]
    }
   ],
   "source": [
    "phrase = \"Bienvenue dans le cours\" \n",
    "phrase = phrase + \" de sciences numériques.\" # Changement de la valeur stockée dans y\n",
    "print(phrase)\n",
    "# Remarque : lorsque l'on fusionne des chaînes de caractères, on parle alors de \n",
    "# concaténation."
   ]
  },
  {
   "cell_type": "markdown",
   "metadata": {},
   "source": [
    "__Exercice :__ En vous aidant de la commande précédente :\n",
    "\n",
    "1) déclarer et initialiser une variable **phrase2** avec la chaîne de caractères suivante : **Le lycée David d'Angers**\n",
    "\n",
    "2) ajouter à **phrase2** la chaîne de caractères suivante : **se situe dans l'académie de Nantes.** (ajouter un espace au début de cette dernière chaîne de caractères).\n",
    "\n",
    "3) afficher la valeur de la variable **phrase2**.\n"
   ]
  },
  {
   "cell_type": "code",
   "execution_count": 25,
   "metadata": {},
   "outputs": [],
   "source": [
    "# Écrire vos commandes ici\n",
    "\n",
    "\n",
    "\n"
   ]
  },
  {
   "cell_type": "markdown",
   "metadata": {},
   "source": [
    "## Afficher du texte et des valeurs de variables\n",
    "\n",
    "La fonction print peut afficher une succession d'arguments."
   ]
  },
  {
   "cell_type": "code",
   "execution_count": 26,
   "metadata": {},
   "outputs": [
    {
     "name": "stdout",
     "output_type": "stream",
     "text": [
      "Mes notes en Mathématiques sont 12.5 et 14.5 .\n"
     ]
    }
   ],
   "source": [
    "note1 = 12.5\n",
    "note2 = 14.5\n",
    "# Affichage d'un texte contenant des variables\n",
    "print(\"Mes notes en Mathématiques sont\", note1, \"et\", note2, \".\")"
   ]
  },
  {
   "cell_type": "code",
   "execution_count": 27,
   "metadata": {},
   "outputs": [
    {
     "name": "stdout",
     "output_type": "stream",
     "text": [
      "Ma moyenne en Mathématiques est 13.5 .\n"
     ]
    }
   ],
   "source": [
    "# Il est aussi possible de fournir placer une expression à calculer en tant qu'argument\n",
    "print(\"Ma moyenne en Mathématiques est\", (note1 + note2)/2, \".\")"
   ]
  },
  {
   "cell_type": "markdown",
   "metadata": {},
   "source": [
    "__Exercice :__ En vous aidant de la commande précédente :\n",
    "\n",
    "1) initialiser une variable **var1** avec la valeur 19\n",
    "\n",
    "2) initialiser une variable **var2** avec la valeur 3\n",
    "\n",
    "3) à l'aide d'une commande print contenant des chaînes de caractères et les variables var1 et var2, écrire une commande permettant dont la sortie affichera le texte ci-dessous :\n",
    "La cube de 19 est 6859."
   ]
  },
  {
   "cell_type": "code",
   "execution_count": 28,
   "metadata": {},
   "outputs": [],
   "source": [
    "# Écrire vos commandes ici\n",
    "\n",
    "\n",
    "\n"
   ]
  },
  {
   "cell_type": "markdown",
   "metadata": {},
   "source": [
    "## Formatage de l'affichage de messages\n",
    "\n",
    "Utilisation de l'option **format**.\n",
    "\n",
    "\n",
    "Reprenons l'exemple des notes de Mathématiques :"
   ]
  },
  {
   "cell_type": "code",
   "execution_count": 29,
   "metadata": {
    "scrolled": true
   },
   "outputs": [
    {
     "name": "stdout",
     "output_type": "stream",
     "text": [
      "Mes notes en Mathématiques sont 12.5 et 14.5 .\n"
     ]
    }
   ],
   "source": [
    "note1 = 12.5\n",
    "note2 = 14.5\n",
    "print(\"Mes notes en Mathématiques sont\", note1, \"et\", note2, \".\")"
   ]
  },
  {
   "cell_type": "markdown",
   "metadata": {},
   "source": [
    "Il est possible de simplifier l'écriture de cette dernière commande à l'aide de l'option **format**."
   ]
  },
  {
   "cell_type": "code",
   "execution_count": 30,
   "metadata": {},
   "outputs": [
    {
     "name": "stdout",
     "output_type": "stream",
     "text": [
      "Mes notes en Mathématiqes sont 12.5 et 14.5.\n"
     ]
    }
   ],
   "source": [
    "# Commande utilisant l'option format\n",
    "print(\"Mes notes en Mathématiqes sont {} et {}.\".format(note1, note2))"
   ]
  },
  {
   "cell_type": "markdown",
   "metadata": {},
   "source": [
    "__Exercice :__ En vous aidant de la commande précédente, afficher à nouveau le message *Le cube de 19 est 6859.* en utilisant la fonction *print*, l'option *format* et les variables *var1* et *var2*."
   ]
  },
  {
   "cell_type": "code",
   "execution_count": 31,
   "metadata": {},
   "outputs": [],
   "source": [
    "# Écrire vos commandes ici\n",
    "\n"
   ]
  },
  {
   "cell_type": "markdown",
   "metadata": {},
   "source": [
    "## Types de variables\n",
    "\n",
    "Les variables sont classées par type."
   ]
  },
  {
   "cell_type": "code",
   "execution_count": 32,
   "metadata": {},
   "outputs": [
    {
     "data": {
      "text/plain": [
       "int"
      ]
     },
     "execution_count": 32,
     "metadata": {},
     "output_type": "execute_result"
    }
   ],
   "source": [
    "# Type de variable : les entiers notés int en python\n",
    "a = 42\n",
    "type(a)   # la fonction type() retourne le type d'une donnée"
   ]
  },
  {
   "cell_type": "code",
   "execution_count": 33,
   "metadata": {},
   "outputs": [
    {
     "data": {
      "text/plain": [
       "float"
      ]
     },
     "execution_count": 33,
     "metadata": {},
     "output_type": "execute_result"
    }
   ],
   "source": [
    "# Type de variable : les floatants notés float en python\n",
    "b = 3.1415\n",
    "type(b)   # b est un nombre réel décimal"
   ]
  },
  {
   "cell_type": "code",
   "execution_count": 34,
   "metadata": {
    "scrolled": true
   },
   "outputs": [
    {
     "data": {
      "text/plain": [
       "str"
      ]
     },
     "execution_count": 34,
     "metadata": {},
     "output_type": "execute_result"
    }
   ],
   "source": [
    "# Type de variable : les chaînes de caractères notés str en python\n",
    "c = \"Monty Python est le nom d'une troupe d'humoristes anglais.\"\n",
    "type(c)"
   ]
  },
  {
   "cell_type": "markdown",
   "metadata": {},
   "source": [
    "## Fonction\n",
    "\n",
    "Il est possible de définir une fonction en Python. \n",
    "\n",
    "Par exemple, on peut définir une fonction d’une variable. Considérons par exemple la fonction affine f suivante définie sur $\\mathbb{R}$ par: $f(x) = 2x+1$."
   ]
  },
  {
   "cell_type": "code",
   "execution_count": 35,
   "metadata": {},
   "outputs": [
    {
     "name": "stdout",
     "output_type": "stream",
     "text": [
      "1\n",
      "L'image de 0 par la fonction f est 1.\n"
     ]
    }
   ],
   "source": [
    "# déclaration et définition de la fonction  f\n",
    "def f(x):\n",
    "    return 2 * x + 1\n",
    "\n",
    "# On peut maintenant utiliser la fonction f pour calculer une image\n",
    "print(f(0))\n",
    "\n",
    "# Et on peut écrire une phrase\n",
    "print(\"L'image de 0 par la fonction f est {}.\".format(f(0)))"
   ]
  },
  {
   "cell_type": "markdown",
   "metadata": {},
   "source": [
    "Le principe de définition de fonctions est intéressant pour au moins deux raisons:\n",
    "\n",
    "1) cela nous permet de ne pas répéter un calcul long à taper,\n",
    "\n",
    "2) car Python possède un type spécial."
   ]
  },
  {
   "cell_type": "code",
   "execution_count": 36,
   "metadata": {},
   "outputs": [
    {
     "data": {
      "text/plain": [
       "function"
      ]
     },
     "execution_count": 36,
     "metadata": {},
     "output_type": "execute_result"
    }
   ],
   "source": [
    "# une fonction est un type spécial en Python\n",
    "type(f)"
   ]
  },
  {
   "cell_type": "markdown",
   "metadata": {},
   "source": [
    "Les fonctions mathématiques sont différents des fonctions en informatique. En effet programmation, on rencontre aussi beaucoup de fonctions prenant du texte, une fonction ou ne prenant pas de paramètre du tout. Elles peuvent aussi retourner du texte, une fonction, voire même ne rien retourner."
   ]
  },
  {
   "cell_type": "markdown",
   "metadata": {},
   "source": [
    "__Exercice :__ \n",
    "\n",
    "1) Créer une fonction *g* définie par $g(x) = 3x^2 -2x +1$.\n",
    "\n",
    "2) Afficher le résultat de l'image de -101 par la fonction *g*."
   ]
  },
  {
   "cell_type": "code",
   "execution_count": 37,
   "metadata": {},
   "outputs": [],
   "source": [
    "# Écrire vos commandes ici\n",
    "\n"
   ]
  },
  {
   "cell_type": "code",
   "execution_count": 24,
   "metadata": {},
   "outputs": [],
   "source": [
    "# Définition d'une fonction qui retourne une chaîne de caractère\n",
    "def hi():\n",
    "    return \"Hello from Python!!!\""
   ]
  },
  {
   "cell_type": "code",
   "execution_count": 25,
   "metadata": {},
   "outputs": [
    {
     "data": {
      "text/plain": [
       "'Hello from Python!!!'"
      ]
     },
     "execution_count": 25,
     "metadata": {},
     "output_type": "execute_result"
    }
   ],
   "source": [
    "# Appel de la fonction\n",
    "hi()    # remarque : la fonction hi n'a pas d'argument"
   ]
  },
  {
   "cell_type": "code",
   "execution_count": 22,
   "metadata": {},
   "outputs": [],
   "source": [
    "# Il est possible de fournir un argument à une fonction\n",
    "def hi_v2(nom):\n",
    "    return \"Hello \" + nom + \" from Python!!!\""
   ]
  },
  {
   "cell_type": "code",
   "execution_count": 23,
   "metadata": {},
   "outputs": [
    {
     "data": {
      "text/plain": [
       "'Hello Julie from Python!!!'"
      ]
     },
     "execution_count": 23,
     "metadata": {},
     "output_type": "execute_result"
    }
   ],
   "source": [
    "# Appel de la fonction hi_v2\n",
    "hi_v2(\"Julie\")"
   ]
  },
  {
   "cell_type": "markdown",
   "metadata": {},
   "source": [
    "__Exercice :__ \n",
    "    \n",
    "1) Créer une fonction appelée *bonjour* et qui prend en argument le **prénom** (exemple Julie) d'une personne puis retourne en sortie *Bonjour, **prénom** !* (Exemple : Bonjour, Julie !)\n",
    "\n",
    "2) Appeler la fonction *bonjour* avec votre prénom."
   ]
  },
  {
   "cell_type": "code",
   "execution_count": 13,
   "metadata": {},
   "outputs": [],
   "source": [
    "# Écrire vos commandes ici\n",
    "\n",
    "\n",
    "\n",
    "\n"
   ]
  },
  {
   "cell_type": "markdown",
   "metadata": {},
   "source": [
    "**Plusieurs arguments**\n",
    "\n",
    "Il est possible de fournir plusieurs arguments à une fonction en python. Voici un exemple sur le calcul de l'aire d'un rectangle."
   ]
  },
  {
   "cell_type": "code",
   "execution_count": 14,
   "metadata": {},
   "outputs": [
    {
     "name": "stdout",
     "output_type": "stream",
     "text": [
      "L'aire d'un rectangle de longueur 4.3 cm et de largeur 3.7 mesure 15.91 cm^2.\n"
     ]
    }
   ],
   "source": [
    "# Calcul de l'aire d'un rectangle\n",
    "def aire_rectangle(longueur, largeur):\n",
    "    return longueur * largeur\n",
    "\n",
    "print(\"L'aire d'un rectangle de longueur {} cm et de largeur {} mesure {} cm^2.\"\n",
    "      .format(4.3, 3.7, aire_rectangle(4.3, 3.7)))  \n",
    "\n",
    "# remarquez le saut de ligne, après cm^2, pour éviter une ligne trop longue"
   ]
  },
  {
   "cell_type": "markdown",
   "metadata": {},
   "source": [
    "__Exercice :__ \n",
    "    \n",
    "1) Créer une fonction appelée *aire_carre* qui retourne l'aire d'un carré.\n",
    "\n",
    "2) Comme dans l'exemple sur l'aire d'un rectangle, affichez un message utilisant votre fonction et donnant l'aire d'un carré de côté de 5,8cm."
   ]
  },
  {
   "cell_type": "code",
   "execution_count": 12,
   "metadata": {},
   "outputs": [],
   "source": [
    "# Écrire vos commandes ici\n",
    "\n",
    "\n",
    "\n",
    "\n",
    "\n",
    "\n"
   ]
  },
  {
   "cell_type": "markdown",
   "metadata": {},
   "source": [
    "__Exercice :__ \n",
    "    \n",
    "1) Créer une fonction appelée *volume_parallelepipede* qui retourne le volume d'un parallélépipède.\n",
    "\n",
    "2) Comme dans les exemples précédents, affichez un message utilisant votre fonction et donnant le volume d'un parallélépipède dont les mesures des longueur, largeur et hauteur sont respectivement 5,9 cm, 4,2 cm et 8,9 cm."
   ]
  },
  {
   "cell_type": "code",
   "execution_count": 11,
   "metadata": {},
   "outputs": [],
   "source": [
    "# Écrire vos commandes ici\n",
    "\n",
    "\n",
    "\n",
    "\n",
    "\n",
    "\n"
   ]
  },
  {
   "cell_type": "markdown",
   "metadata": {},
   "source": [
    "**Application aux évolutions**\n",
    "\n",
    "Nous allons revoir quelques notions sur les évolutions dans la section suivante."
   ]
  },
  {
   "cell_type": "code",
   "execution_count": 15,
   "metadata": {},
   "outputs": [
    {
     "name": "stdout",
     "output_type": "stream",
     "text": [
      "Une valeur 36 augmentée de 11% est alors égale à 39.96.\n"
     ]
    }
   ],
   "source": [
    "# Voici une fonction qui retourne une valeur diminuée d'un certain pourcentage\n",
    "def evolution(valeur, pourcentage):\n",
    "    return valeur * (1 + pourcentage/100)\n",
    "\n",
    "print(\"Une valeur {} augmentée de {}% est alors égale à {}.\"\n",
    "      .format(36, 11, evolution(36, 11)))"
   ]
  },
  {
   "cell_type": "markdown",
   "metadata": {},
   "source": [
    "__Exercice :__ \n",
    "    \n",
    "1) En France, la TVA est égale à 20% pour la majorité des objets vendus non essentiels. Le prix  hors taxes (HT) d'une console de jeu vidéo est de 260€. Utiliser la fonction *evolution* afin d'afficher le prix toutes taxes comprises (TTC) de cette console de jeu.\n",
    "\n",
    "2) Le prix d'un pull est de 45€ et il subit une diminution de 25%. Utiliser la fonction *evolution* afin d'afficher le prix du pull soldé."
   ]
  },
  {
   "cell_type": "code",
   "execution_count": 16,
   "metadata": {},
   "outputs": [],
   "source": [
    "# Écrire vos commandes ici\n",
    "\n",
    "\n",
    "\n",
    "\n",
    "\n",
    "\n"
   ]
  },
  {
   "cell_type": "markdown",
   "metadata": {},
   "source": [
    "## Exécution conditionnelle : IF ... ELSE\n",
    "\n",
    "Pour résoudre un problème informatique, il faut toujours effectuer une série d'actions dans un certain ordre. La description structurée de ces actions et de l'ordre dans lequel il convient de les effectuer s'appelle un algorithme.\n",
    "\n",
    "Le « chemin » suivi par Python à travers un programme est appelé un flux d'exécution, et les constructions qui le modifient sont appelées des instructions de contrôle de flux.\n",
    "\n",
    "Les structures de contrôle sont les groupes d'instructions qui déterminent l'ordre dans lequel les actions sont effectuées. \n",
    "\n",
    "Nous allons à présent découvrir la structure de contrôle appellée l'exécution conditionnelle.\n",
    "\n",
    "IF ... ELSE ...  qui correspond à : SI ... SINON ...\n",
    "\n",
    "\n",
    "IF ... ELIF ... ELSE ...  qui correspond à : SI ... SINON SI ... SINON ..."
   ]
  },
  {
   "cell_type": "code",
   "execution_count": 27,
   "metadata": {},
   "outputs": [
    {
     "name": "stdout",
     "output_type": "stream",
     "text": [
      "Vous ne pouvez pas conduire seul.\n"
     ]
    }
   ],
   "source": [
    "# Exemple d'une exécution conditionnelle\n",
    "\n",
    "# l'âge d'une personne est de 16 ans\n",
    "age = 16\n",
    "\n",
    "# suivant l'âge de cette personne, on souhaite afficher si elle est autorisée à conduire seule\n",
    "if age < 18:\n",
    "    print(\"Vous ne pouvez pas conduire seul.\")\n",
    "    # le message, ci-dessus, ne s'affiche que si la condition age < 18 est vérifiée\n",
    "else:\n",
    "    print(\"Après avoir obtenu votre permis, vous pouvez conduire seul!\")\n",
    "    # le message, ci-dessus, ne s'affiche que si la condition age < 18 n'est pas vérifiée, \n",
    "    # c'est-à-dire si age est supérieur ou égal à 18\n",
    "    "
   ]
  },
  {
   "cell_type": "markdown",
   "metadata": {},
   "source": [
    "__Exercice :__ \n",
    "    \n",
    "1) Déclarer et initialiser une variable *argent_de_poche* à 86.\n",
    "\n",
    "2) Déclarer et initialiser une variable *prix_jean* à 67.\n",
    "\n",
    "2) À l'aide d'une exécution condtionnelle (if ... else ...), écrire des instructions correspondant au processus ci-dessous :\n",
    "\n",
    "si prix < argent de poche \n",
    "    alors afficher un message indiquant \"Vous ne pouvez pas acheter le jean!\"\n",
    "\n",
    "sinon\n",
    "    afficher un message indiquant \"Vous pouvez acheter le jean!\""
   ]
  },
  {
   "cell_type": "code",
   "execution_count": 21,
   "metadata": {},
   "outputs": [],
   "source": [
    "# Écrire vos commandes ici\n",
    "\n",
    "\n",
    "\n",
    "\n",
    "\n",
    "\n"
   ]
  },
  {
   "cell_type": "markdown",
   "metadata": {},
   "source": [
    "À présent, nous allons utiliser l'exécution conditionnelle dans une fonction."
   ]
  },
  {
   "cell_type": "code",
   "execution_count": 2,
   "metadata": {},
   "outputs": [
    {
     "name": "stdout",
     "output_type": "stream",
     "text": [
      "À 16 ans : Vous ne pouvez pas conduire seul.\n",
      "À 17 ans : Vous ne pouvez pas conduire seul.\n",
      "À 18 ans : Après avoir obtenu votre permis, vous pouvez conduire seul!\n"
     ]
    }
   ],
   "source": [
    "# Revenons aux conditions pour pouvoir conduire seul et ajoutons cela dans une fonction.\n",
    "def conduire_seul(age):\n",
    "    if age < 18:\n",
    "        return \"Vous ne pouvez pas conduire seul.\"\n",
    "    else:\n",
    "        return \"Après avoir obtenu votre permis, vous pouvez conduire seul!\"\n",
    "    \n",
    "# il est à présent possible d'appeler la fonction avec différents âges.\n",
    "print(\"À 16 ans :\", conduire_seul(16))\n",
    "print(\"À 17 ans :\", conduire_seul(17))\n",
    "print(\"À 18 ans :\", conduire_seul(18))"
   ]
  },
  {
   "cell_type": "markdown",
   "metadata": {},
   "source": [
    "## Les structures répétitives ou itératives : boucle FOR\n",
    "\n",
    "Afin de simplifier le code précédent qui est répétitif, il est préférable d'utiliser une boucle FOR."
   ]
  },
  {
   "cell_type": "code",
   "execution_count": 3,
   "metadata": {},
   "outputs": [
    {
     "name": "stdout",
     "output_type": "stream",
     "text": [
      "À 16 ans : Vous ne pouvez pas conduire seul.\n",
      "À 17 ans : Vous ne pouvez pas conduire seul.\n",
      "À 18 ans : Après avoir obtenu votre permis, vous pouvez conduire seul!\n"
     ]
    }
   ],
   "source": [
    "for age in [16, 17, 18]:\n",
    "    print(\"À {} ans : {}\".format(age, conduire_seul(age)))"
   ]
  },
  {
   "cell_type": "markdown",
   "metadata": {},
   "source": [
    "La fonction range() permet de parcourir un intervalle de nombres."
   ]
  },
  {
   "cell_type": "code",
   "execution_count": 4,
   "metadata": {},
   "outputs": [
    {
     "name": "stdout",
     "output_type": "stream",
     "text": [
      "10^2 = 100\n",
      "11^2 = 121\n",
      "12^2 = 144\n",
      "13^2 = 169\n",
      "14^2 = 196\n",
      "15^2 = 225\n",
      "16^2 = 256\n",
      "17^2 = 289\n",
      "18^2 = 324\n",
      "19^2 = 361\n",
      "20^2 = 400\n"
     ]
    }
   ],
   "source": [
    "# voici un exemple d'utilisation de la fonction range() qui permet d'afficher la liste des carrés de 1à 20\n",
    "for n in range(10, 20 + 1):\n",
    "    print(\"{}^2 = {}\".format(n, n**2))"
   ]
  },
  {
   "cell_type": "markdown",
   "metadata": {},
   "source": [
    "__Exercice :__ En vous inspirant du programme ci-dessous, écrire un programme qui affiche les cubes de 0 à 20."
   ]
  },
  {
   "cell_type": "code",
   "execution_count": 6,
   "metadata": {},
   "outputs": [],
   "source": [
    "# Écrire vos commandes ici\n",
    "\n",
    "\n",
    "\n",
    "\n"
   ]
  },
  {
   "cell_type": "markdown",
   "metadata": {},
   "source": [
    "Voici un exemple d'utilisation de la boucle FOR afin de déterminer si un nombre entier naturel en premier"
   ]
  },
  {
   "cell_type": "code",
   "execution_count": 15,
   "metadata": {},
   "outputs": [
    {
     "name": "stdout",
     "output_type": "stream",
     "text": [
      "3 est-il premier? True\n"
     ]
    }
   ],
   "source": [
    "def est_premier(n):\n",
    "    if n == 1:\n",
    "        return False\n",
    "    for d in range(2, n):\n",
    "        if n % d == 0:\n",
    "            return False            # False est une valeur de type booléen\n",
    "    return True                     # True est une valeur de type booléen\n",
    "\n",
    "print(\"{} est-il premier? {}\".format(3, est_premier(3)))"
   ]
  },
  {
   "cell_type": "code",
   "execution_count": 14,
   "metadata": {},
   "outputs": [
    {
     "name": "stdout",
     "output_type": "stream",
     "text": [
      "1 est-il premier? False\n",
      "2 est-il premier? True\n",
      "3 est-il premier? True\n",
      "4 est-il premier? False\n",
      "5 est-il premier? True\n",
      "6 est-il premier? False\n",
      "7 est-il premier? True\n",
      "8 est-il premier? False\n",
      "9 est-il premier? False\n",
      "10 est-il premier? False\n",
      "11 est-il premier? True\n",
      "12 est-il premier? False\n",
      "13 est-il premier? True\n",
      "14 est-il premier? False\n",
      "15 est-il premier? False\n",
      "16 est-il premier? False\n",
      "17 est-il premier? True\n",
      "18 est-il premier? False\n",
      "19 est-il premier? True\n",
      "20 est-il premier? False\n"
     ]
    }
   ],
   "source": [
    "# Affichage de la primalité des entiers de 1 à 20\n",
    "for n in range(1, 20 + 1):\n",
    "    print(\"{} est-il premier? {}\".format(n, est_premier(n)))"
   ]
  },
  {
   "cell_type": "code",
   "execution_count": null,
   "metadata": {},
   "outputs": [],
   "source": []
  }
 ],
 "metadata": {
  "kernelspec": {
   "display_name": "Python 3",
   "language": "python",
   "name": "python3"
  },
  "language_info": {
   "codemirror_mode": {
    "name": "ipython",
    "version": 3
   },
   "file_extension": ".py",
   "mimetype": "text/x-python",
   "name": "python",
   "nbconvert_exporter": "python",
   "pygments_lexer": "ipython3",
   "version": "3.7.3"
  }
 },
 "nbformat": 4,
 "nbformat_minor": 2
}
